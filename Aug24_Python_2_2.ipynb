{
  "nbformat": 4,
  "nbformat_minor": 0,
  "metadata": {
    "colab": {
      "provenance": [],
      "include_colab_link": true
    },
    "kernelspec": {
      "name": "python3",
      "display_name": "Python 3"
    },
    "language_info": {
      "name": "python"
    }
  },
  "cells": [
    {
      "cell_type": "markdown",
      "metadata": {
        "id": "view-in-github",
        "colab_type": "text"
      },
      "source": [
        "<a href=\"https://colab.research.google.com/github/Shishir-Sachan/python_learning/blob/main/Aug24_Python_2_2.ipynb\" target=\"_parent\"><img src=\"https://colab.research.google.com/assets/colab-badge.svg\" alt=\"Open In Colab\"/></a>"
      ]
    },
    {
      "cell_type": "code",
      "execution_count": null,
      "metadata": {
        "colab": {
          "base_uri": "https://localhost:8080/"
        },
        "id": "Q-3ll3dmzQx4",
        "outputId": "45c8e878-f978-4182-a36c-8aada0bd2e6c"
      },
      "outputs": [
        {
          "output_type": "execute_result",
          "data": {
            "text/plain": [
              "4"
            ]
          },
          "metadata": {},
          "execution_count": 1
        }
      ],
      "source": [
        "2+2"
      ]
    },
    {
      "cell_type": "code",
      "source": [
        "class Car:\n",
        "  def __init__(self, name, mileage, age):\n",
        "    self.name = name\n",
        "    self.age = age\n",
        "    self.mileage = mileage\n",
        "\n",
        "  def __str__(self):\n",
        "    return f\"{self.name} -> {self.mileage}\"\n",
        "\n",
        "  def __add__(self, other):\n",
        "    return self.mileage + other.mileage\n",
        "\n",
        "  def __lt__(self, other):\n",
        "    return self.mileage < other.mileage"
      ],
      "metadata": {
        "id": "2Ao0LqGszTFl"
      },
      "execution_count": null,
      "outputs": []
    },
    {
      "cell_type": "code",
      "source": [
        "c1 = Car(\"Nexon\", 12, 1)\n",
        "c2 = Car(\"Audi Q3\", 15, 2)"
      ],
      "metadata": {
        "id": "cml3yQdNz7-w"
      },
      "execution_count": null,
      "outputs": []
    },
    {
      "cell_type": "code",
      "source": [
        "c1 + c2"
      ],
      "metadata": {
        "colab": {
          "base_uri": "https://localhost:8080/"
        },
        "id": "_7Bw1bKk8S-G",
        "outputId": "6bb365a9-e006-47b9-b3d6-0bbe92b3761b"
      },
      "execution_count": null,
      "outputs": [
        {
          "output_type": "execute_result",
          "data": {
            "text/plain": [
              "27"
            ]
          },
          "metadata": {},
          "execution_count": 57
        }
      ]
    },
    {
      "cell_type": "code",
      "source": [
        "print(id(c1), id(c2))"
      ],
      "metadata": {
        "colab": {
          "base_uri": "https://localhost:8080/"
        },
        "id": "DmTtfVa00URC",
        "outputId": "6c6ae5ed-8910-420f-a708-81b4e5dde98b"
      },
      "execution_count": null,
      "outputs": [
        {
          "output_type": "stream",
          "name": "stdout",
          "text": [
            "135927848811968 135927848809136\n"
          ]
        }
      ]
    },
    {
      "cell_type": "code",
      "source": [
        "print(c1)"
      ],
      "metadata": {
        "colab": {
          "base_uri": "https://localhost:8080/"
        },
        "id": "z9Yzj8rF0eO7",
        "outputId": "d0a4d07e-038b-4902-ab29-570cf690b11e"
      },
      "execution_count": null,
      "outputs": [
        {
          "output_type": "stream",
          "name": "stdout",
          "text": [
            "Nexon -> 12\n"
          ]
        }
      ]
    },
    {
      "cell_type": "code",
      "source": [
        "print(c2)"
      ],
      "metadata": {
        "colab": {
          "base_uri": "https://localhost:8080/"
        },
        "id": "G0r_ii5N0uvn",
        "outputId": "6884f254-e55f-488b-dc3a-53067e208355"
      },
      "execution_count": null,
      "outputs": [
        {
          "output_type": "stream",
          "name": "stdout",
          "text": [
            "Audi Q3 -> 15\n"
          ]
        }
      ]
    },
    {
      "cell_type": "code",
      "source": [
        "c1 + c2"
      ],
      "metadata": {
        "colab": {
          "base_uri": "https://localhost:8080/"
        },
        "id": "AYsvnuPC1HXN",
        "outputId": "1f201c05-29ec-49c1-8014-55943a9c3873"
      },
      "execution_count": null,
      "outputs": [
        {
          "output_type": "execute_result",
          "data": {
            "text/plain": [
              "27"
            ]
          },
          "metadata": {},
          "execution_count": 20
        }
      ]
    },
    {
      "cell_type": "code",
      "source": [
        "c1 < c2"
      ],
      "metadata": {
        "colab": {
          "base_uri": "https://localhost:8080/"
        },
        "id": "I66XhJfi1hgh",
        "outputId": "e529ec1f-de4b-47f4-927f-5386c574c11c"
      },
      "execution_count": null,
      "outputs": [
        {
          "output_type": "execute_result",
          "data": {
            "text/plain": [
              "True"
            ]
          },
          "metadata": {},
          "execution_count": 26
        }
      ]
    },
    {
      "cell_type": "code",
      "source": [
        "dir(c1)"
      ],
      "metadata": {
        "colab": {
          "base_uri": "https://localhost:8080/"
        },
        "id": "LSgYxYnp1-LP",
        "outputId": "d48f79e2-1a4e-44f1-d0c8-058ecb8b192e"
      },
      "execution_count": null,
      "outputs": [
        {
          "output_type": "execute_result",
          "data": {
            "text/plain": [
              "['__add__',\n",
              " '__class__',\n",
              " '__delattr__',\n",
              " '__dict__',\n",
              " '__dir__',\n",
              " '__doc__',\n",
              " '__eq__',\n",
              " '__format__',\n",
              " '__ge__',\n",
              " '__getattribute__',\n",
              " '__gt__',\n",
              " '__hash__',\n",
              " '__init__',\n",
              " '__init_subclass__',\n",
              " '__le__',\n",
              " '__lt__',\n",
              " '__module__',\n",
              " '__ne__',\n",
              " '__new__',\n",
              " '__reduce__',\n",
              " '__reduce_ex__',\n",
              " '__repr__',\n",
              " '__setattr__',\n",
              " '__sizeof__',\n",
              " '__str__',\n",
              " '__subclasshook__',\n",
              " '__weakref__',\n",
              " 'mileage',\n",
              " 'name']"
            ]
          },
          "metadata": {},
          "execution_count": 27
        }
      ]
    },
    {
      "cell_type": "code",
      "source": [
        "c3 = Car(\"Creta\", 14)"
      ],
      "metadata": {
        "id": "Br3uXWL72wHm"
      },
      "execution_count": null,
      "outputs": []
    },
    {
      "cell_type": "code",
      "source": [
        "x = c1 + c2 + c3\n",
        "x.mileage"
      ],
      "metadata": {
        "colab": {
          "base_uri": "https://localhost:8080/"
        },
        "id": "f9UFu_Qm4EFR",
        "outputId": "1d31c4a1-991e-4393-9ee9-a15842fac1bf"
      },
      "execution_count": null,
      "outputs": [
        {
          "output_type": "execute_result",
          "data": {
            "text/plain": [
              "41"
            ]
          },
          "metadata": {},
          "execution_count": 42
        }
      ]
    },
    {
      "cell_type": "code",
      "source": [
        "class Student:\n",
        "  def __init__(self, age):\n",
        "    self.age = age\n",
        "    #print(\"Inside class = \", id(self))\n",
        "\n",
        "  def ssss(self, other):\n",
        "    return self.age + other.age"
      ],
      "metadata": {
        "id": "5R1iQhoi4F6D"
      },
      "execution_count": null,
      "outputs": []
    },
    {
      "cell_type": "code",
      "source": [
        "s1 = Student(20)\n",
        "s2 = Student(40)\n",
        "print(s1.ssss(s2))"
      ],
      "metadata": {
        "colab": {
          "base_uri": "https://localhost:8080/"
        },
        "id": "ZyOwfKMN8056",
        "outputId": "0d6f6237-78e2-4f35-e64b-c1da240f650c"
      },
      "execution_count": null,
      "outputs": [
        {
          "output_type": "stream",
          "name": "stdout",
          "text": [
            "60\n"
          ]
        }
      ]
    },
    {
      "cell_type": "code",
      "source": [
        "class Student2:\n",
        "  def __init__(self, age):\n",
        "    self.age = age\n",
        "    #print(\"Inside class = \", id(self))\n",
        "\n",
        "  def __add__(self, other):\n",
        "    return self.age + other.age"
      ],
      "metadata": {
        "id": "WAaBmef880xL"
      },
      "execution_count": null,
      "outputs": []
    },
    {
      "cell_type": "code",
      "source": [
        "s1 = Student2(20)\n",
        "s2 = Student2(40)\n",
        "s1 + s2"
      ],
      "metadata": {
        "colab": {
          "base_uri": "https://localhost:8080/"
        },
        "id": "1_KOLCWH80l2",
        "outputId": "68d66b0a-1196-4d36-f6d4-3de9975c21f1"
      },
      "execution_count": null,
      "outputs": [
        {
          "output_type": "execute_result",
          "data": {
            "text/plain": [
              "60"
            ]
          },
          "metadata": {},
          "execution_count": 69
        }
      ]
    },
    {
      "cell_type": "code",
      "source": [
        "s1 = Student(\"A\")\n",
        "print(\"Outside class\", id(s1))"
      ],
      "metadata": {
        "colab": {
          "base_uri": "https://localhost:8080/"
        },
        "id": "yXhb8CdD7CpH",
        "outputId": "0cf3691e-7ae8-4327-f9ea-8d5717ab33da"
      },
      "execution_count": null,
      "outputs": [
        {
          "output_type": "stream",
          "name": "stdout",
          "text": [
            "Inside class =  135927848806352\n",
            "Outside class 135927848806352\n"
          ]
        }
      ]
    },
    {
      "cell_type": "code",
      "source": [
        "s2 = Student(\"B\")\n",
        "print(\"Outside class\", id(s2))"
      ],
      "metadata": {
        "colab": {
          "base_uri": "https://localhost:8080/"
        },
        "id": "7mv6XDeT7FLo",
        "outputId": "3d31fa76-e7fb-494a-971e-546d411d79df"
      },
      "execution_count": null,
      "outputs": [
        {
          "output_type": "stream",
          "name": "stdout",
          "text": [
            "Inside class =  135927227895184\n",
            "Outside class 135927227895184\n"
          ]
        }
      ]
    },
    {
      "cell_type": "code",
      "source": [
        "2 + 3"
      ],
      "metadata": {
        "colab": {
          "base_uri": "https://localhost:8080/"
        },
        "id": "-KK1Jon_7H81",
        "outputId": "bc8f6441-ed82-450f-f38d-d43db4c39c7a"
      },
      "execution_count": null,
      "outputs": [
        {
          "output_type": "execute_result",
          "data": {
            "text/plain": [
              "5"
            ]
          },
          "metadata": {},
          "execution_count": 70
        }
      ]
    },
    {
      "cell_type": "code",
      "source": [
        "\"HE\" + \"JJ\""
      ],
      "metadata": {
        "colab": {
          "base_uri": "https://localhost:8080/",
          "height": 35
        },
        "id": "WEURvR8o9r-H",
        "outputId": "d1932e21-081c-4477-9912-6919f049b99e"
      },
      "execution_count": null,
      "outputs": [
        {
          "output_type": "execute_result",
          "data": {
            "text/plain": [
              "'HEJJ'"
            ],
            "application/vnd.google.colaboratory.intrinsic+json": {
              "type": "string"
            }
          },
          "metadata": {},
          "execution_count": 71
        }
      ]
    },
    {
      "cell_type": "code",
      "source": [
        "class A:\n",
        "  def __init__(self, a):\n",
        "    self.a = a\n",
        "  def __add__(self, b):\n",
        "    if isinstance(b, int):\n",
        "      return A(self.a + b)\n",
        "    return A(self.a + b.a)  # self.a + b.a = 3\n",
        "  def __str__(self):\n",
        "    return f\"{self.a}\"\n",
        "\n",
        "\n",
        "one = A(1)\n",
        "two = A(2)\n",
        "\n",
        "print(one + two + 100)  # one + two = A(3)"
      ],
      "metadata": {
        "colab": {
          "base_uri": "https://localhost:8080/"
        },
        "id": "KcaCcBrp9t0V",
        "outputId": "117833f6-29a4-4049-cd75-233e1cd4848a"
      },
      "execution_count": null,
      "outputs": [
        {
          "output_type": "stream",
          "name": "stdout",
          "text": [
            "103\n"
          ]
        }
      ]
    },
    {
      "cell_type": "code",
      "source": [
        "class SchoolMember:\n",
        "  def __init__(self, name):\n",
        "    self.name = name"
      ],
      "metadata": {
        "id": "ePrrNYFk_kNq"
      },
      "execution_count": null,
      "outputs": []
    },
    {
      "cell_type": "code",
      "source": [
        "class Student(SchoolMember):\n",
        "  def __init__(self, name, grade):\n",
        "    super().__init__(name)\n",
        "    self.grade = grade"
      ],
      "metadata": {
        "id": "7QOYyQn4AkG-"
      },
      "execution_count": null,
      "outputs": []
    },
    {
      "cell_type": "code",
      "source": [
        "s1 = Student(\"Prem\", 25)"
      ],
      "metadata": {
        "id": "pCDc2yCcA-zl"
      },
      "execution_count": null,
      "outputs": []
    },
    {
      "cell_type": "code",
      "source": [
        "print(s1.grade)"
      ],
      "metadata": {
        "colab": {
          "base_uri": "https://localhost:8080/"
        },
        "id": "EBsxCxIsBFaj",
        "outputId": "47021037-1f49-4657-d675-d0c707d68f41"
      },
      "execution_count": null,
      "outputs": [
        {
          "output_type": "stream",
          "name": "stdout",
          "text": [
            "25\n"
          ]
        }
      ]
    },
    {
      "cell_type": "code",
      "source": [
        "print(s1.name)"
      ],
      "metadata": {
        "colab": {
          "base_uri": "https://localhost:8080/"
        },
        "id": "bzkR0sZQBJZ7",
        "outputId": "166567ce-ebea-4965-c488-c85426d01945"
      },
      "execution_count": null,
      "outputs": [
        {
          "output_type": "stream",
          "name": "stdout",
          "text": [
            "Prem\n"
          ]
        }
      ]
    },
    {
      "cell_type": "code",
      "source": [
        "class A:\n",
        "    def do_something(self):\n",
        "        print(\"I do something!\", end=\" \")\n",
        "\n",
        "class B(A):\n",
        "    def do_something(self):\n",
        "        super().do_something()\n",
        "        print(\"I also do something!\", end=\" \")\n",
        "\n",
        "b = B()\n",
        "b.do_something()"
      ],
      "metadata": {
        "colab": {
          "base_uri": "https://localhost:8080/"
        },
        "id": "jncaC1tOBNHn",
        "outputId": "1e1d673c-4cbf-47f6-d97d-4aff36080575"
      },
      "execution_count": null,
      "outputs": [
        {
          "output_type": "stream",
          "name": "stdout",
          "text": [
            "I do something! I also do something! "
          ]
        }
      ]
    },
    {
      "cell_type": "code",
      "source": [
        "class BankAccount:\n",
        "    def __init__(self, balance):\n",
        "        self.balance = balance\n",
        "\n",
        "    def withdrawl(self, amount):\n",
        "        self.balance -= amount\n",
        "\n",
        "    def deposit(self, amount):\n",
        "        self.balance += amount"
      ],
      "metadata": {
        "id": "E9VcWZDaCNRB"
      },
      "execution_count": null,
      "outputs": []
    },
    {
      "cell_type": "code",
      "source": [
        "a = BankAccount(10000)"
      ],
      "metadata": {
        "id": "EwcJH2OaCfgd"
      },
      "execution_count": null,
      "outputs": []
    },
    {
      "cell_type": "code",
      "source": [
        "a.withdrawl(500)\n",
        "print(a.balance)"
      ],
      "metadata": {
        "colab": {
          "base_uri": "https://localhost:8080/"
        },
        "id": "f79CSlYxCn1o",
        "outputId": "3dea2bd7-a806-4fbf-a12f-5ddc69e07a16"
      },
      "execution_count": null,
      "outputs": [
        {
          "output_type": "stream",
          "name": "stdout",
          "text": [
            "9500\n"
          ]
        }
      ]
    },
    {
      "cell_type": "code",
      "source": [
        "a.deposit(2000)\n",
        "print(a.balance)"
      ],
      "metadata": {
        "colab": {
          "base_uri": "https://localhost:8080/"
        },
        "id": "DMqAX1CgCsu9",
        "outputId": "21b3ea4f-3d39-4577-dbe9-43fb22d7331a"
      },
      "execution_count": null,
      "outputs": [
        {
          "output_type": "stream",
          "name": "stdout",
          "text": [
            "11500\n"
          ]
        }
      ]
    },
    {
      "cell_type": "code",
      "source": [
        "a.balance = 324321424243532453245324234524324523"
      ],
      "metadata": {
        "id": "pZiBZT5_CxmK"
      },
      "execution_count": null,
      "outputs": []
    },
    {
      "cell_type": "code",
      "source": [],
      "metadata": {
        "id": "y5wb4quRDEK_"
      },
      "execution_count": null,
      "outputs": []
    }
  ]
}