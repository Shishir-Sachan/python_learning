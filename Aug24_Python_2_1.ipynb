{
  "nbformat": 4,
  "nbformat_minor": 0,
  "metadata": {
    "colab": {
      "provenance": [],
      "include_colab_link": true
    },
    "kernelspec": {
      "name": "python3",
      "display_name": "Python 3"
    },
    "language_info": {
      "name": "python"
    }
  },
  "cells": [
    {
      "cell_type": "markdown",
      "metadata": {
        "id": "view-in-github",
        "colab_type": "text"
      },
      "source": [
        "<a href=\"https://colab.research.google.com/github/Shishir-Sachan/python_learning/blob/main/Aug24_Python_2_1.ipynb\" target=\"_parent\"><img src=\"https://colab.research.google.com/assets/colab-badge.svg\" alt=\"Open In Colab\"/></a>"
      ]
    },
    {
      "cell_type": "code",
      "execution_count": null,
      "metadata": {
        "colab": {
          "base_uri": "https://localhost:8080/"
        },
        "id": "wdb79EWBdJzo",
        "outputId": "44d37c63-a6fe-4efa-84fa-439dd20e568d"
      },
      "outputs": [
        {
          "output_type": "execute_result",
          "data": {
            "text/plain": [
              "15"
            ]
          },
          "metadata": {},
          "execution_count": 1
        }
      ],
      "source": [
        "1 + 2 + 3 + 4 + 5"
      ]
    },
    {
      "cell_type": "code",
      "source": [
        "class Human:\n",
        "  # properties / variables\n",
        "  # functions\n",
        "  pass"
      ],
      "metadata": {
        "id": "QFvXMGdrdNYv"
      },
      "execution_count": null,
      "outputs": []
    },
    {
      "cell_type": "code",
      "source": [
        "utkarsh = Human()"
      ],
      "metadata": {
        "id": "1aPjtEykl7Ii"
      },
      "execution_count": null,
      "outputs": []
    },
    {
      "cell_type": "code",
      "source": [
        "type(utkarsh)"
      ],
      "metadata": {
        "colab": {
          "base_uri": "https://localhost:8080/"
        },
        "id": "HImawZHZmAm2",
        "outputId": "f8250c34-05cf-475b-8d7c-2d7882914ca2"
      },
      "execution_count": null,
      "outputs": [
        {
          "output_type": "execute_result",
          "data": {
            "text/plain": [
              "__main__.Human"
            ]
          },
          "metadata": {},
          "execution_count": 4
        }
      ]
    },
    {
      "cell_type": "code",
      "source": [
        "class Student:\n",
        "  # properties / variables\n",
        "  # functions\n",
        "  pass"
      ],
      "metadata": {
        "id": "DsGT7Wp5nmJ-"
      },
      "execution_count": null,
      "outputs": []
    },
    {
      "cell_type": "code",
      "source": [
        "isinstance(utkarsh, Student)"
      ],
      "metadata": {
        "colab": {
          "base_uri": "https://localhost:8080/"
        },
        "id": "qEW8LgGUmDXU",
        "outputId": "b453c739-97c9-4266-a0aa-bc1c31d42cf7"
      },
      "execution_count": null,
      "outputs": [
        {
          "output_type": "execute_result",
          "data": {
            "text/plain": [
              "False"
            ]
          },
          "metadata": {},
          "execution_count": 9
        }
      ]
    },
    {
      "cell_type": "code",
      "source": [
        "class Animal:\n",
        "  legs = 2\n",
        "  def canWalk():\n",
        "    pass"
      ],
      "metadata": {
        "id": "N8I2d6nImee0"
      },
      "execution_count": null,
      "outputs": []
    },
    {
      "cell_type": "code",
      "source": [
        "class Mammal(Animal):\n",
        "  pass"
      ],
      "metadata": {
        "id": "LzDQCxlvtfyf"
      },
      "execution_count": null,
      "outputs": []
    },
    {
      "cell_type": "code",
      "source": [
        "class Student:\n",
        "  def hello(self):\n",
        "    print(\"Hello!\")\n",
        "    print(id(self))"
      ],
      "metadata": {
        "id": "UJBbBCB_tlLK"
      },
      "execution_count": null,
      "outputs": []
    },
    {
      "cell_type": "code",
      "source": [
        "Shalini = Student()"
      ],
      "metadata": {
        "id": "dkSwt90Cw3ZZ"
      },
      "execution_count": null,
      "outputs": []
    },
    {
      "cell_type": "code",
      "source": [
        "Shalini.hello()\n",
        "# hello(Shalini)\n",
        "print(id(Shalini))"
      ],
      "metadata": {
        "colab": {
          "base_uri": "https://localhost:8080/"
        },
        "id": "jhSt-8PFxCmG",
        "outputId": "239682af-9c9a-4ff1-bb14-bde7c53e5546"
      },
      "execution_count": null,
      "outputs": [
        {
          "output_type": "stream",
          "name": "stdout",
          "text": [
            "Hello!\n",
            "133784624459264\n",
            "133784624459264\n"
          ]
        }
      ]
    },
    {
      "cell_type": "code",
      "source": [
        "class Student:\n",
        "  def __init__(self, n, a):\n",
        "    self.name = n\n",
        "    self.age = a"
      ],
      "metadata": {
        "id": "mDsCGpEKxOuK"
      },
      "execution_count": null,
      "outputs": []
    },
    {
      "cell_type": "code",
      "source": [
        "s1 = Student(\"Amrit\", 26) # Object creation"
      ],
      "metadata": {
        "id": "KaLRDpQXzMfm"
      },
      "execution_count": null,
      "outputs": []
    },
    {
      "cell_type": "code",
      "source": [
        "print(s1.name)\n",
        "print(s1.age)"
      ],
      "metadata": {
        "colab": {
          "base_uri": "https://localhost:8080/"
        },
        "id": "OQgW795czVLW",
        "outputId": "297acfeb-b240-450d-fd16-a900b6eeed5a"
      },
      "execution_count": null,
      "outputs": [
        {
          "output_type": "stream",
          "name": "stdout",
          "text": [
            "Amrit\n",
            "26\n"
          ]
        }
      ]
    },
    {
      "cell_type": "code",
      "source": [
        "s2 = s1"
      ],
      "metadata": {
        "id": "zrONTMMLzaJD"
      },
      "execution_count": null,
      "outputs": []
    },
    {
      "cell_type": "code",
      "source": [
        "print(s2.name, s2.age)"
      ],
      "metadata": {
        "colab": {
          "base_uri": "https://localhost:8080/"
        },
        "id": "U2Rg82xLzrxG",
        "outputId": "eedb492f-b884-4529-fb50-9b8b0957d86c"
      },
      "execution_count": null,
      "outputs": [
        {
          "output_type": "stream",
          "name": "stdout",
          "text": [
            "Amrit 26\n"
          ]
        }
      ]
    },
    {
      "cell_type": "code",
      "source": [
        "aefaweaw = 51\n",
        "print(aefaweaw)"
      ],
      "metadata": {
        "colab": {
          "base_uri": "https://localhost:8080/"
        },
        "id": "31YSnKe5zvKR",
        "outputId": "3e2239af-7f4a-4ff9-8ca8-9486c08f89e1"
      },
      "execution_count": null,
      "outputs": [
        {
          "output_type": "stream",
          "name": "stdout",
          "text": [
            "51\n"
          ]
        }
      ]
    },
    {
      "cell_type": "code",
      "source": [
        "class Student:\n",
        "  def __init__(self, n, a):\n",
        "    self.name = n\n",
        "    self.age = a"
      ],
      "metadata": {
        "id": "uKyOsUit1GED"
      },
      "execution_count": null,
      "outputs": []
    },
    {
      "cell_type": "code",
      "source": [
        "s1 = Student(\"A\", 25)\n",
        "# __init__(s1, \"A\", 25)"
      ],
      "metadata": {
        "id": "ss24pNsq1bXK"
      },
      "execution_count": null,
      "outputs": []
    },
    {
      "cell_type": "code",
      "source": [
        "print(s1.name, s1.age)"
      ],
      "metadata": {
        "colab": {
          "base_uri": "https://localhost:8080/"
        },
        "id": "He9Wk_2p1kDd",
        "outputId": "fe7e0e4d-c73d-4655-8ff8-3aa7d183395b"
      },
      "execution_count": null,
      "outputs": [
        {
          "output_type": "stream",
          "name": "stdout",
          "text": [
            "A 25\n"
          ]
        }
      ]
    },
    {
      "cell_type": "code",
      "source": [
        "s1.height = 5\n",
        "print(s1.height)"
      ],
      "metadata": {
        "colab": {
          "base_uri": "https://localhost:8080/"
        },
        "id": "S9fXu9n017C3",
        "outputId": "7bfd0f6c-4661-47c6-b706-50b9772952bc"
      },
      "execution_count": null,
      "outputs": [
        {
          "output_type": "stream",
          "name": "stdout",
          "text": [
            "5\n"
          ]
        }
      ]
    },
    {
      "cell_type": "code",
      "source": [
        "class Student:\n",
        "  def __init__(self, n, a):\n",
        "    self.name = n\n",
        "    self.age = a\n",
        "  def __init__(self, b):\n",
        "    self.gender = b\n",
        "\n",
        "S1= Student(\"A\", 1)\n",
        "# __init__(S1, \"A\", 1)\n",
        "S2= Student(\"M\")"
      ],
      "metadata": {
        "colab": {
          "base_uri": "https://localhost:8080/",
          "height": 193
        },
        "id": "_t46gwTA2lqu",
        "outputId": "b37145d0-fa6b-4ca2-fa2b-d15303465131"
      },
      "execution_count": null,
      "outputs": [
        {
          "output_type": "error",
          "ename": "TypeError",
          "evalue": "Student.__init__() takes 2 positional arguments but 3 were given",
          "traceback": [
            "\u001b[0;31m---------------------------------------------------------------------------\u001b[0m",
            "\u001b[0;31mTypeError\u001b[0m                                 Traceback (most recent call last)",
            "\u001b[0;32m<ipython-input-37-538ae6feb730>\u001b[0m in \u001b[0;36m<cell line: 8>\u001b[0;34m()\u001b[0m\n\u001b[1;32m      6\u001b[0m     \u001b[0mself\u001b[0m\u001b[0;34m.\u001b[0m\u001b[0mgender\u001b[0m \u001b[0;34m=\u001b[0m \u001b[0mb\u001b[0m\u001b[0;34m\u001b[0m\u001b[0;34m\u001b[0m\u001b[0m\n\u001b[1;32m      7\u001b[0m \u001b[0;34m\u001b[0m\u001b[0m\n\u001b[0;32m----> 8\u001b[0;31m \u001b[0mS1\u001b[0m\u001b[0;34m=\u001b[0m \u001b[0mStudent\u001b[0m\u001b[0;34m(\u001b[0m\u001b[0;34m\"A\"\u001b[0m\u001b[0;34m,\u001b[0m \u001b[0;36m1\u001b[0m\u001b[0;34m)\u001b[0m\u001b[0;34m\u001b[0m\u001b[0;34m\u001b[0m\u001b[0m\n\u001b[0m\u001b[1;32m      9\u001b[0m \u001b[0mS2\u001b[0m\u001b[0;34m=\u001b[0m \u001b[0mStudent\u001b[0m\u001b[0;34m(\u001b[0m\u001b[0;34m\"M\"\u001b[0m\u001b[0;34m)\u001b[0m\u001b[0;34m\u001b[0m\u001b[0;34m\u001b[0m\u001b[0m\n",
            "\u001b[0;31mTypeError\u001b[0m: Student.__init__() takes 2 positional arguments but 3 were given"
          ]
        }
      ]
    },
    {
      "cell_type": "code",
      "source": [
        "# Lifecycle of an object\n",
        "\n",
        "# __init__\n",
        "#\n",
        "#\n",
        "#\n",
        "# __del__"
      ],
      "metadata": {
        "id": "_j9JlCJb3PEA"
      },
      "execution_count": null,
      "outputs": []
    },
    {
      "cell_type": "code",
      "source": [
        "class Student:\n",
        "  hobby = \"Coding\"  # class level variable\n",
        "\n",
        "  def __init__(self, n, a):\n",
        "    self.name = n   # instance level variabel\n",
        "    self.age = a"
      ],
      "metadata": {
        "id": "YoEBGSIW4PN2"
      },
      "execution_count": null,
      "outputs": []
    },
    {
      "cell_type": "code",
      "source": [
        "s1 = Student(\"Saurabh\", 30)"
      ],
      "metadata": {
        "id": "hti5U9bs4hhd"
      },
      "execution_count": null,
      "outputs": []
    },
    {
      "cell_type": "code",
      "source": [
        "s2 = Student(\"Mahesh\", 29)"
      ],
      "metadata": {
        "id": "edsFGveD4m5S"
      },
      "execution_count": null,
      "outputs": []
    },
    {
      "cell_type": "code",
      "source": [
        "print(s1.name, s1.age, s1.hobby)"
      ],
      "metadata": {
        "colab": {
          "base_uri": "https://localhost:8080/"
        },
        "id": "H8VYWgSY4r1u",
        "outputId": "0469b44d-22db-40d7-ec1a-c43e710975d6"
      },
      "execution_count": null,
      "outputs": [
        {
          "output_type": "stream",
          "name": "stdout",
          "text": [
            "Saurabh 30 Coding\n"
          ]
        }
      ]
    },
    {
      "cell_type": "code",
      "source": [
        "print(s2.name, s2.age, s2.hobby)"
      ],
      "metadata": {
        "colab": {
          "base_uri": "https://localhost:8080/"
        },
        "id": "BKAbESth40jV",
        "outputId": "290c4af9-961b-49c8-e0e0-2224f9a508c1"
      },
      "execution_count": null,
      "outputs": [
        {
          "output_type": "stream",
          "name": "stdout",
          "text": [
            "Mahesh 29 Coding\n"
          ]
        }
      ]
    },
    {
      "cell_type": "code",
      "source": [
        "s1.hobby = \"Watch Movies\""
      ],
      "metadata": {
        "id": "WWtW4usC48oa"
      },
      "execution_count": null,
      "outputs": []
    },
    {
      "cell_type": "code",
      "source": [
        "print(s1.hobby)"
      ],
      "metadata": {
        "colab": {
          "base_uri": "https://localhost:8080/"
        },
        "id": "dUnJVpZG5l3w",
        "outputId": "11cd2f51-8057-4f62-ff31-be8f9204c82c"
      },
      "execution_count": null,
      "outputs": [
        {
          "output_type": "stream",
          "name": "stdout",
          "text": [
            "Watch Movies\n"
          ]
        }
      ]
    },
    {
      "cell_type": "code",
      "source": [
        "print(s2.hobby)"
      ],
      "metadata": {
        "colab": {
          "base_uri": "https://localhost:8080/"
        },
        "id": "_Ek_Vr2V5nls",
        "outputId": "c2662e9e-bbfc-4966-e7c8-a54332ce3c35"
      },
      "execution_count": null,
      "outputs": [
        {
          "output_type": "stream",
          "name": "stdout",
          "text": [
            "Coding\n"
          ]
        }
      ]
    },
    {
      "cell_type": "code",
      "source": [
        "a = 10\n",
        "id(a)"
      ],
      "metadata": {
        "colab": {
          "base_uri": "https://localhost:8080/"
        },
        "id": "wedmboCl5ylT",
        "outputId": "daca4fc9-cb12-4bba-eda0-a22b43f750a7"
      },
      "execution_count": null,
      "outputs": [
        {
          "output_type": "execute_result",
          "data": {
            "text/plain": [
              "133785054757392"
            ]
          },
          "metadata": {},
          "execution_count": 48
        }
      ]
    },
    {
      "cell_type": "code",
      "source": [
        "a = 20\n",
        "id(a)"
      ],
      "metadata": {
        "colab": {
          "base_uri": "https://localhost:8080/"
        },
        "id": "LmL5vmOb6T4i",
        "outputId": "0ca8fc5c-4ea7-445d-a0dc-189fbcc97267"
      },
      "execution_count": null,
      "outputs": [
        {
          "output_type": "execute_result",
          "data": {
            "text/plain": [
              "133785054757712"
            ]
          },
          "metadata": {},
          "execution_count": 49
        }
      ]
    },
    {
      "cell_type": "code",
      "source": [
        "class Student:\n",
        "  games = [\"Coding\", \"Cricket\"]  # class level variable\n",
        "\n",
        "  def __init__(self, n, a):\n",
        "    self.name = n   # instance level variabel\n",
        "    self.age = a"
      ],
      "metadata": {
        "id": "3nUpfXkA6ZcN"
      },
      "execution_count": null,
      "outputs": []
    },
    {
      "cell_type": "code",
      "source": [
        "s1 = Student(\"Srinivas\", 27)\n",
        "s2 = Student(\"Dipak\", 22)"
      ],
      "metadata": {
        "id": "Aq7NddnL6zQB"
      },
      "execution_count": null,
      "outputs": []
    },
    {
      "cell_type": "code",
      "source": [
        "s1.games.append(\"Chess\")"
      ],
      "metadata": {
        "id": "qUEFpCWy688l"
      },
      "execution_count": null,
      "outputs": []
    },
    {
      "cell_type": "code",
      "source": [
        "print(s1.games)"
      ],
      "metadata": {
        "colab": {
          "base_uri": "https://localhost:8080/"
        },
        "id": "CNM-vgR97Kxq",
        "outputId": "69b1869f-a333-44e8-b5c6-e37018913a27"
      },
      "execution_count": null,
      "outputs": [
        {
          "output_type": "stream",
          "name": "stdout",
          "text": [
            "['Coding', 'Cricket', 'Chess']\n"
          ]
        }
      ]
    },
    {
      "cell_type": "code",
      "source": [
        "print(s2.games)"
      ],
      "metadata": {
        "colab": {
          "base_uri": "https://localhost:8080/"
        },
        "id": "gOMk7wyu7QLX",
        "outputId": "3fc8d240-c5d0-469e-fd17-6c268798b5d9"
      },
      "execution_count": null,
      "outputs": [
        {
          "output_type": "stream",
          "name": "stdout",
          "text": [
            "['Coding', 'Cricket', 'Chess']\n"
          ]
        }
      ]
    },
    {
      "cell_type": "code",
      "source": [
        "class Student:\n",
        "    name = \"Bipin\"\n",
        "    def __init__(self, name, age):\n",
        "        self.name = name\n",
        "        self.age = age\n",
        "\n",
        "    def hello(self):\n",
        "      print(f\"Hello {self.name}\")\n",
        "\n",
        "    def printClassVariable(self):\n",
        "      print(Student.name) # to print class level variable use ClassName.VariableName\n",
        "\n",
        "bipin = Student(\"Ayush\", 20)\n",
        "\n",
        "bipin.hello()\n",
        "# hello(bipin)\n",
        "\n",
        "bipin.printClassV"
      ],
      "metadata": {
        "colab": {
          "base_uri": "https://localhost:8080/"
        },
        "id": "cBZjyUSW7Tm5",
        "outputId": "a3d94c3f-e6f8-4c43-a9e1-669d3d27d31c"
      },
      "execution_count": null,
      "outputs": [
        {
          "output_type": "stream",
          "name": "stdout",
          "text": [
            "Hello Ayush\n"
          ]
        }
      ]
    },
    {
      "cell_type": "code",
      "source": [
        "class Calculator:\n",
        "    def __init__(self, number):\n",
        "        self.number = number\n",
        "\n",
        "    def multiply_by_two(self):\n",
        "        return self.number * 2\n",
        "\n",
        "calc = Calculator(3)\n",
        "print(calc.multiply_by_two())"
      ],
      "metadata": {
        "colab": {
          "base_uri": "https://localhost:8080/"
        },
        "id": "HNAoZKyy7zKb",
        "outputId": "a7fc8ac0-87d1-4f72-9bd4-f1b958f39709"
      },
      "execution_count": null,
      "outputs": [
        {
          "output_type": "stream",
          "name": "stdout",
          "text": [
            "6\n"
          ]
        }
      ]
    },
    {
      "cell_type": "code",
      "source": [],
      "metadata": {
        "id": "X0X1GmGh8fAl"
      },
      "execution_count": null,
      "outputs": []
    }
  ]
}